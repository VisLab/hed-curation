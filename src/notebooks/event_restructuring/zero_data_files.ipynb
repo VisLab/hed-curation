{
 "cells": [
  {
   "cell_type": "markdown",
   "metadata": {
    "collapsed": true,
    "pycharm": {
     "name": "#%% md\n"
    }
   },
   "source": [
    "## Create data files of zero length\n",
    "\n",
    "Example datasets, such as those in bids-examples or hed-examples GitHub repositories are\n",
    "used as test cases for various validation and other operations.\n",
    "Because the neuroimaging portion of the data is so large,\n",
    "these datasets cannot be stored in GitHub.\n",
    "\n",
    "This script traverses a directory tree and zeros the length of the files with the specified types."
   ]
  },
  {
   "cell_type": "code",
   "execution_count": 1,
   "outputs": [
    {
     "name": "stdout",
     "output_type": "stream",
     "text": [
      "Truncating sub-001_ses-01_task-WorkingMemory_run-1_eeg.fdt ...\n",
      "Truncating sub-001_ses-01_task-WorkingMemory_run-1_eeg.set ...\n",
      "Truncating sub-001_ses-01_task-WorkingMemory_run-2_eeg.fdt ...\n",
      "Truncating sub-001_ses-01_task-WorkingMemory_run-2_eeg.set ...\n",
      "Truncating sub-001_ses-01_task-WorkingMemory_run-3_eeg.fdt ...\n",
      "Truncating sub-001_ses-01_task-WorkingMemory_run-3_eeg.set ...\n",
      "Truncating sub-001_ses-01_task-WorkingMemory_run-4_eeg.fdt ...\n",
      "Truncating sub-001_ses-01_task-WorkingMemory_run-4_eeg.set ...\n",
      "Truncating sub-003_ses-01_task-WorkingMemory_run-1_eeg.fdt ...\n",
      "Truncating sub-003_ses-01_task-WorkingMemory_run-1_eeg.set ...\n",
      "Truncating sub-003_ses-01_task-WorkingMemory_run-2_eeg.fdt ...\n",
      "Truncating sub-003_ses-01_task-WorkingMemory_run-2_eeg.set ...\n",
      "Truncating sub-003_ses-01_task-WorkingMemory_run-3_eeg.fdt ...\n",
      "Truncating sub-003_ses-01_task-WorkingMemory_run-3_eeg.set ...\n",
      "Truncating sub-003_ses-01_task-WorkingMemory_run-4_eeg.fdt ...\n",
      "Truncating sub-003_ses-01_task-WorkingMemory_run-4_eeg.set ...\n"
     ]
    }
   ],
   "source": [
    "import os\n",
    "from hed.util import get_file_list\n",
    "\n",
    "exclude_dirs = [\"code\", \"sourcedata\", \"derivatives\"]\n",
    "eeglab_exts = [\".set\", \".fdt\"]\n",
    "fmri_exts = [\".nii\", \".nii.gz\"]\n",
    "bids_root_path = os.path.realpath('../../../datasets/eeg_ds004117s_sternberg')\n",
    "files_bids = get_file_list(bids_root_path, extensions=eeglab_exts, exclude_dirs=exclude_dirs)\n",
    "\n",
    "\n",
    "# Make the set files zero length\n",
    "for file in files_bids:\n",
    "    print(f\"Truncating {os.path.basename(file)} ...\")\n",
    "    fd = open(file, \"w+\")\n",
    "    fd.truncate(0)\n",
    "    fd.close()"
   ],
   "metadata": {
    "collapsed": false,
    "pycharm": {
     "name": "#%% Find the files\n"
    }
   }
  }
 ],
 "metadata": {
  "kernelspec": {
   "display_name": "Python 3",
   "language": "python",
   "name": "python3"
  },
  "language_info": {
   "codemirror_mode": {
    "name": "ipython",
    "version": 2
   },
   "file_extension": ".py",
   "mimetype": "text/x-python",
   "name": "python",
   "nbconvert_exporter": "python",
   "pygments_lexer": "ipython2",
   "version": "2.7.6"
  }
 },
 "nbformat": 4,
 "nbformat_minor": 0
}