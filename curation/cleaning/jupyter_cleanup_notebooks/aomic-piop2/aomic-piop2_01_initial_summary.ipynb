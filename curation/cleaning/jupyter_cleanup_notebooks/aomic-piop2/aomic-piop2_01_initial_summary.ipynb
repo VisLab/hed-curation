{
 "cells": [
  {
   "cell_type": "markdown",
   "metadata": {
    "collapsed": true,
    "pycharm": {
     "name": "#%% md\n"
    }
   },
   "source": [
    "## Initial summary of event files\n",
    "\n",
    "**Dataset**: aomic-piop2 [openNeuro ds002790](https://openneuro.org/datasets/ds002790).\n",
    "\n",
    "This script does a preliminary summary of the contents of the events files.\n",
    "The summary includes printing out the column names of each event file so\n",
    "that they can be manually checked for differences.\n",
    "\n",
    "The script assumes that the data is in BIDS format and that each BIDS events\n",
    "file of the form `_events.tsv` has a corresponding events file with\n",
    "suffix `_events_temp.tsv` that was previously dumped from the `EEG.set` files.\n",
    "\n",
    "In order to compare the events coming from the BIDS events files and those\n",
    "from the EEG.set files, the script creates dictionaries of `key` to full path\n",
    "for each type of file.  The `key` is of the form `sub-xxx_run-y` which\n",
    "uniquely specify each event file in the dataset. If a dataset contains\n",
    "multiple sessions for each subject, the `key` should include additional\n",
    "parts of the file name to uniquely specify each subject.\n",
    "\n",
    "Keys are specified by a `name_indices` tuple which consists of the\n",
    "pieces of the file name to include. Here pieces are separated by the\n",
    "underbar character.\n",
    "\n",
    "For a file name `sub-001_ses-3_task-target_run-01_events.tsv`,\n",
    "the tuple (0, 2) gives a key of `sub-001_task-target`,\n",
    "while the tuple (0, 3) gives a key of `sub-001_run-01`.\n",
    "The use of dictionaries of file names with such keys makes it\n",
    "easier to associate related files in the BIDS naming structure.\n",
    "\n",
    "The setup requires the setting of the following variables for your dataset:\n",
    "\n",
    "| Variable | Purpose |\n",
    "| -------- | ------- |\n",
    "| bids_root_path | Full path to root directory of dataset.|\n",
    "| exclude_dirs | List of directories to exclude when constructing file lists. |\n",
    "| entities  | Tuple of entity names used to construct a unique keys representing filenames. <br>(See [Dictionaries of filenames](https://hed-examples.readthedocs.io/en/latest/HedInPython.html#dictionaries-of-filenames-anchor) for examples of how to choose the key.)||\n",
    "| skip_columns  |  List of column names in the `events.tsv` files to skip in the analysis. |"
   ]
  },
  {
   "cell_type": "code",
   "execution_count": 5,
   "outputs": [],
   "source": [
    "from hed.tools import BidsTabularDictionary\n",
    "from hed.util import get_file_list\n",
    "\n",
    "# Variables to set for the specific dataset\n",
    "#bids_root_path = '/openneuro/ds002790-download'\n",
    "bids_root_path = 'T:/ds002790'\n",
    "bids_root_path = 'U:/test3'\n",
    "exclude_dirs = ['derivatives', 'models']\n",
    "entities = ('sub', 'task')\n",
    "skip_columns = ['onset', 'duration', 'response_time', 'stop_signal_delay']\n",
    "tasks = ['emomatching', 'restingstate', 'stopsignal', 'workingmemory']\n",
    "tasks = ['stopsignal']\n",
    "name = 'aomic-piop2'\n",
    "# Construct the event file dictionaries for the BIDS and for EEG.event files\n",
    "event_files = get_file_list(bids_root_path, extensions=[\".tsv\"], name_suffix=\"_events\",\n",
    "                            exclude_dirs=exclude_dirs)\n",
    "bids_dict = BidsTabularDictionary(name, event_files, entities=('sub', 'task'))"
   ],
   "metadata": {
    "collapsed": false,
    "pycharm": {
     "name": "#%% Create dictionaries for the BIDS events files and the EEG.event files\n"
    }
   }
  },
  {
   "cell_type": "code",
   "execution_count": 6,
   "outputs": [
    {
     "name": "stdout",
     "output_type": "stream",
     "text": [
      "Dataset tasks are [dict_keys(['stopsignal'])]\n",
      "\n",
      "BIDS-style event files for task stopsignal\n",
      "<hed.tools.bids.bids_tabular_dictionary.BidsTabularDictionary object at 0x0000017724D4C760>\n"
     ]
    }
   ],
   "source": [
    "task_dicts, leftovers = bids_dict.split_by_entity('task')\n",
    "print(f\"Dataset tasks are [{str(task_dicts.keys())}]\")\n",
    "for task, task_dict in task_dicts.items():\n",
    "    print(f\"\\nBIDS-style event files for task {task}\\n{task_dict}\")\n",
    "\n",
    "\n",
    "if leftovers:\n",
    "    print(f\"\\nThese file did not have a task entity\\n{leftovers}\")"
   ],
   "metadata": {
    "collapsed": false,
    "pycharm": {
     "name": "#%% Split the dictionaries by task and output each individually\n"
    }
   }
  },
  {
   "cell_type": "code",
   "execution_count": 7,
   "outputs": [
    {
     "name": "stdout",
     "output_type": "stream",
     "text": [
      "\n",
      "BIDS-style event file columns:\n",
      "\n",
      "Task stopsignal event file columns:\n",
      "sub-0013_task-stopsignal [83 events]: ['onset', 'duration', 'trial_type', 'event_type', 'sex', 'response_hand', 'response_accuracy', 'trial_number']\n",
      "sub-0106_task-stopsignal [84 events]: ['onset', 'duration', 'trial_type', 'event_type', 'sex', 'response_hand', 'response_accuracy', 'trial_number']\n",
      "sub-0219_task-stopsignal [83 events]: ['onset', 'duration', 'trial_type', 'event_type', 'sex', 'response_hand', 'response_accuracy', 'trial_number']\n"
     ]
    }
   ],
   "source": [
    "print(f\"\\nBIDS-style event file columns:\")\n",
    "for task, task_dict in task_dicts.items():\n",
    "    print(f\"\\nTask {task} event file columns:\")\n",
    "    for key, file, rowcount, columns in task_dict.iter_files():\n",
    "        print(f\"{key} [{rowcount} events]: {str(columns)}\")\n"
   ],
   "metadata": {
    "collapsed": false,
    "pycharm": {
     "name": "#%% Output the column names for each type of event file\n"
    }
   }
  },
  {
   "cell_type": "code",
   "execution_count": 8,
   "outputs": [
    {
     "name": "stdout",
     "output_type": "stream",
     "text": [
      "\n",
      "BIDS events summary counts:\n",
      "\n",
      "BIDS-style event info for task stopsignal:\n",
      "Summary for column dictionary :\n",
      "   Categorical columns (6):\n",
      "      event_type (1 distinct values):\n",
      "         response: 250\n",
      "      response_accuracy (2 distinct values):\n",
      "         correct: 247\n",
      "         incorrect: 3\n",
      "      response_hand (2 distinct values):\n",
      "         left: 128\n",
      "         right: 122\n",
      "      sex (2 distinct values):\n",
      "         female: 125\n",
      "         male: 125\n",
      "      trial_number (97 distinct values):\n",
      "         1: 3\n",
      "         10: 2\n",
      "         100: 2\n",
      "         11: 3\n",
      "         12: 2\n",
      "         13: 3\n",
      "         14: 3\n",
      "         15: 1\n",
      "         16: 3\n",
      "         17: 3\n",
      "         18: 1\n",
      "         2: 3\n",
      "         20: 3\n",
      "         21: 3\n",
      "         22: 2\n",
      "         23: 3\n",
      "         24: 3\n",
      "         25: 3\n",
      "         26: 3\n",
      "         27: 3\n",
      "         28: 3\n",
      "         29: 3\n",
      "         3: 3\n",
      "         30: 3\n",
      "         31: 3\n",
      "         32: 3\n",
      "         33: 3\n",
      "         34: 2\n",
      "         35: 2\n",
      "         36: 3\n",
      "         37: 3\n",
      "         38: 3\n",
      "         39: 3\n",
      "         40: 3\n",
      "         41: 2\n",
      "         42: 3\n",
      "         43: 2\n",
      "         44: 3\n",
      "         45: 2\n",
      "         46: 3\n",
      "         47: 2\n",
      "         48: 2\n",
      "         49: 3\n",
      "         5: 3\n",
      "         50: 3\n",
      "         51: 3\n",
      "         52: 2\n",
      "         53: 3\n",
      "         54: 3\n",
      "         55: 3\n",
      "         56: 2\n",
      "         57: 2\n",
      "         58: 2\n",
      "         59: 3\n",
      "         6: 1\n",
      "         60: 3\n",
      "         61: 3\n",
      "         62: 3\n",
      "         63: 2\n",
      "         64: 2\n",
      "         65: 3\n",
      "         66: 1\n",
      "         67: 3\n",
      "         68: 2\n",
      "         69: 1\n",
      "         7: 3\n",
      "         70: 2\n",
      "         72: 2\n",
      "         73: 3\n",
      "         74: 3\n",
      "         75: 3\n",
      "         76: 2\n",
      "         77: 2\n",
      "         78: 3\n",
      "         79: 3\n",
      "         8: 2\n",
      "         80: 3\n",
      "         81: 3\n",
      "         82: 2\n",
      "         83: 3\n",
      "         84: 2\n",
      "         85: 3\n",
      "         86: 3\n",
      "         87: 3\n",
      "         88: 3\n",
      "         89: 3\n",
      "         9: 3\n",
      "         90: 3\n",
      "         91: 3\n",
      "         92: 3\n",
      "         93: 3\n",
      "         94: 1\n",
      "         95: 2\n",
      "         96: 3\n",
      "         97: 3\n",
      "         98: 2\n",
      "         99: 1\n",
      "      trial_type (2 distinct values):\n",
      "         go: 199\n",
      "         unsuccesful_stop: 51\n",
      "   Value columns (0):\n"
     ]
    }
   ],
   "source": [
    "from hed.tools import BidsTabularSummary\n",
    "\n",
    "print('\\nBIDS events summary counts:')\n",
    "for task, task_dict in task_dicts.items():\n",
    "    dicts_all, dicts_sep = BidsTabularSummary.make_combined_dicts(task_dict, skip_cols=skip_columns)\n",
    "    print(f\"\\nBIDS-style event info for task {task}:\\n{dicts_all}\")"
   ],
   "metadata": {
    "collapsed": false,
    "pycharm": {
     "name": "#%% Create summary dictionaries of the original BIDS events files and output column names\n"
    }
   }
  }
 ],
 "metadata": {
  "kernelspec": {
   "display_name": "Python 3",
   "language": "python",
   "name": "python3"
  },
  "language_info": {
   "codemirror_mode": {
    "name": "ipython",
    "version": 2
   },
   "file_extension": ".py",
   "mimetype": "text/x-python",
   "name": "python",
   "nbconvert_exporter": "python",
   "pygments_lexer": "ipython2",
   "version": "2.7.6"
  }
 },
 "nbformat": 4,
 "nbformat_minor": 0
}